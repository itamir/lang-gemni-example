{
 "cells": [
  {
   "cell_type": "code",
   "execution_count": 1,
   "metadata": {},
   "outputs": [
    {
     "name": "stdout",
     "output_type": "stream",
     "text": [
      "Requirement already satisfied: langchain-google-genai in ./.venv/lib/python3.12/site-packages (1.0.1)\n",
      "Requirement already satisfied: pillow in ./.venv/lib/python3.12/site-packages (10.3.0)\n",
      "Requirement already satisfied: google-generativeai<0.5.0,>=0.4.1 in ./.venv/lib/python3.12/site-packages (from langchain-google-genai) (0.4.1)\n",
      "Requirement already satisfied: langchain-core<0.2,>=0.1 in ./.venv/lib/python3.12/site-packages (from langchain-google-genai) (0.1.37)\n",
      "Requirement already satisfied: google-ai-generativelanguage==0.4.0 in ./.venv/lib/python3.12/site-packages (from google-generativeai<0.5.0,>=0.4.1->langchain-google-genai) (0.4.0)\n",
      "Requirement already satisfied: google-auth>=2.15.0 in ./.venv/lib/python3.12/site-packages (from google-generativeai<0.5.0,>=0.4.1->langchain-google-genai) (2.29.0)\n",
      "Requirement already satisfied: google-api-core in ./.venv/lib/python3.12/site-packages (from google-generativeai<0.5.0,>=0.4.1->langchain-google-genai) (2.18.0)\n",
      "Requirement already satisfied: protobuf in ./.venv/lib/python3.12/site-packages (from google-generativeai<0.5.0,>=0.4.1->langchain-google-genai) (4.25.3)\n",
      "Requirement already satisfied: pydantic in ./.venv/lib/python3.12/site-packages (from google-generativeai<0.5.0,>=0.4.1->langchain-google-genai) (2.6.4)\n",
      "Requirement already satisfied: tqdm in ./.venv/lib/python3.12/site-packages (from google-generativeai<0.5.0,>=0.4.1->langchain-google-genai) (4.66.2)\n",
      "Requirement already satisfied: typing-extensions in ./.venv/lib/python3.12/site-packages (from google-generativeai<0.5.0,>=0.4.1->langchain-google-genai) (4.10.0)\n",
      "Requirement already satisfied: proto-plus<2.0.0dev,>=1.22.3 in ./.venv/lib/python3.12/site-packages (from google-ai-generativelanguage==0.4.0->google-generativeai<0.5.0,>=0.4.1->langchain-google-genai) (1.23.0)\n",
      "Requirement already satisfied: PyYAML>=5.3 in ./.venv/lib/python3.12/site-packages (from langchain-core<0.2,>=0.1->langchain-google-genai) (6.0.1)\n",
      "Requirement already satisfied: jsonpatch<2.0,>=1.33 in ./.venv/lib/python3.12/site-packages (from langchain-core<0.2,>=0.1->langchain-google-genai) (1.33)\n",
      "Requirement already satisfied: langsmith<0.2.0,>=0.1.0 in ./.venv/lib/python3.12/site-packages (from langchain-core<0.2,>=0.1->langchain-google-genai) (0.1.38)\n",
      "Requirement already satisfied: packaging<24.0,>=23.2 in ./.venv/lib/python3.12/site-packages (from langchain-core<0.2,>=0.1->langchain-google-genai) (23.2)\n",
      "Requirement already satisfied: requests<3,>=2 in ./.venv/lib/python3.12/site-packages (from langchain-core<0.2,>=0.1->langchain-google-genai) (2.31.0)\n",
      "Requirement already satisfied: tenacity<9.0.0,>=8.1.0 in ./.venv/lib/python3.12/site-packages (from langchain-core<0.2,>=0.1->langchain-google-genai) (8.2.3)\n",
      "Requirement already satisfied: googleapis-common-protos<2.0.dev0,>=1.56.2 in ./.venv/lib/python3.12/site-packages (from google-api-core->google-generativeai<0.5.0,>=0.4.1->langchain-google-genai) (1.63.0)\n",
      "Requirement already satisfied: cachetools<6.0,>=2.0.0 in ./.venv/lib/python3.12/site-packages (from google-auth>=2.15.0->google-generativeai<0.5.0,>=0.4.1->langchain-google-genai) (5.3.3)\n",
      "Requirement already satisfied: pyasn1-modules>=0.2.1 in ./.venv/lib/python3.12/site-packages (from google-auth>=2.15.0->google-generativeai<0.5.0,>=0.4.1->langchain-google-genai) (0.4.0)\n",
      "Requirement already satisfied: rsa<5,>=3.1.4 in ./.venv/lib/python3.12/site-packages (from google-auth>=2.15.0->google-generativeai<0.5.0,>=0.4.1->langchain-google-genai) (4.9)\n",
      "Requirement already satisfied: jsonpointer>=1.9 in ./.venv/lib/python3.12/site-packages (from jsonpatch<2.0,>=1.33->langchain-core<0.2,>=0.1->langchain-google-genai) (2.4)\n",
      "Requirement already satisfied: orjson<4.0.0,>=3.9.14 in ./.venv/lib/python3.12/site-packages (from langsmith<0.2.0,>=0.1.0->langchain-core<0.2,>=0.1->langchain-google-genai) (3.10.0)\n",
      "Requirement already satisfied: annotated-types>=0.4.0 in ./.venv/lib/python3.12/site-packages (from pydantic->google-generativeai<0.5.0,>=0.4.1->langchain-google-genai) (0.6.0)\n",
      "Requirement already satisfied: pydantic-core==2.16.3 in ./.venv/lib/python3.12/site-packages (from pydantic->google-generativeai<0.5.0,>=0.4.1->langchain-google-genai) (2.16.3)\n",
      "Requirement already satisfied: charset-normalizer<4,>=2 in ./.venv/lib/python3.12/site-packages (from requests<3,>=2->langchain-core<0.2,>=0.1->langchain-google-genai) (3.3.2)\n",
      "Requirement already satisfied: idna<4,>=2.5 in ./.venv/lib/python3.12/site-packages (from requests<3,>=2->langchain-core<0.2,>=0.1->langchain-google-genai) (3.6)\n",
      "Requirement already satisfied: urllib3<3,>=1.21.1 in ./.venv/lib/python3.12/site-packages (from requests<3,>=2->langchain-core<0.2,>=0.1->langchain-google-genai) (2.2.1)\n",
      "Requirement already satisfied: certifi>=2017.4.17 in ./.venv/lib/python3.12/site-packages (from requests<3,>=2->langchain-core<0.2,>=0.1->langchain-google-genai) (2024.2.2)\n",
      "Requirement already satisfied: grpcio<2.0dev,>=1.33.2 in ./.venv/lib/python3.12/site-packages (from google-api-core[grpc]!=2.0.*,!=2.1.*,!=2.10.*,!=2.2.*,!=2.3.*,!=2.4.*,!=2.5.*,!=2.6.*,!=2.7.*,!=2.8.*,!=2.9.*,<3.0.0dev,>=1.34.0->google-ai-generativelanguage==0.4.0->google-generativeai<0.5.0,>=0.4.1->langchain-google-genai) (1.62.1)\n",
      "Requirement already satisfied: grpcio-status<2.0.dev0,>=1.33.2 in ./.venv/lib/python3.12/site-packages (from google-api-core[grpc]!=2.0.*,!=2.1.*,!=2.10.*,!=2.2.*,!=2.3.*,!=2.4.*,!=2.5.*,!=2.6.*,!=2.7.*,!=2.8.*,!=2.9.*,<3.0.0dev,>=1.34.0->google-ai-generativelanguage==0.4.0->google-generativeai<0.5.0,>=0.4.1->langchain-google-genai) (1.62.1)\n",
      "Requirement already satisfied: pyasn1<0.7.0,>=0.4.6 in ./.venv/lib/python3.12/site-packages (from pyasn1-modules>=0.2.1->google-auth>=2.15.0->google-generativeai<0.5.0,>=0.4.1->langchain-google-genai) (0.6.0)\n",
      "Note: you may need to restart the kernel to use updated packages.\n"
     ]
    }
   ],
   "source": [
    "pip install langchain-google-genai pillow"
   ]
  },
  {
   "cell_type": "code",
   "execution_count": null,
   "metadata": {},
   "outputs": [],
   "source": [
    "import langchain_google_genai"
   ]
  },
  {
   "cell_type": "code",
   "execution_count": 6,
   "metadata": {},
   "outputs": [],
   "source": [
    "import os\n",
    "\n",
    "os.environ[\"GOOGLE_API_KEY\"] = 'XXXXXXXX'"
   ]
  },
  {
   "cell_type": "code",
   "execution_count": 4,
   "metadata": {},
   "outputs": [],
   "source": [
    "from langchain_google_genai import ChatGoogleGenerativeAI"
   ]
  },
  {
   "cell_type": "code",
   "execution_count": 7,
   "metadata": {},
   "outputs": [
    {
     "name": "stdout",
     "output_type": "stream",
     "text": [
      "**Dieta Saudável**\n",
      "\n",
      "* Consuma frutas, vegetais e grãos integrais.\n",
      "* Limite alimentos processados, açúcares adicionados e gorduras não saudáveis.\n",
      "* Beba bastante água.\n",
      "\n",
      "**Atividade Física Regular**\n",
      "\n",
      "* Pratique pelo menos 150 minutos de atividade física aeróbica de intensidade moderada ou 75 minutos de atividade de intensidade vigorosa por semana.\n",
      "* Inclua exercícios de fortalecimento pelo menos duas vezes por semana.\n",
      "\n",
      "**Sono Suficiente**\n",
      "\n",
      "* Adultos precisam de 7 a 9 horas de sono por noite.\n",
      "* Estabeleça um horário regular de sono e vá para a cama e acorde aproximadamente na mesma hora todos os dias.\n",
      "* Crie um ambiente de sono relaxante e escuro.\n",
      "\n",
      "**Gestão do Estresse**\n",
      "\n",
      "* Identifique os fatores estressantes e desenvolva estratégias para lidar com eles.\n",
      "* Participe de atividades relaxantes, como ioga, meditação ou exercícios.\n",
      "* Conecte-se com amigos e familiares para obter apoio.\n",
      "\n",
      "**Saúde Mental**\n",
      "\n",
      "* Fique atento à sua saúde mental e procure ajuda profissional se necessário.\n",
      "* Pratique a gratidão e concentre-se nas coisas positivas da vida.\n",
      "* Cultive relacionamentos saudáveis.\n",
      "\n",
      "**Exames Médicos Regulares**\n",
      "\n",
      "* Faça exames físicos e exames de rotina conforme recomendado pelo seu médico.\n",
      "* Isso ajuda a detectar problemas de saúde precocemente e gerenciá-los adequadamente.\n",
      "\n",
      "**Higiene Pessoal**\n",
      "\n",
      "* Lave as mãos regularmente para prevenir infecções.\n",
      "* Tome banho ou duche diariamente.\n",
      "* Escove os dentes e use fio dental duas vezes ao dia.\n",
      "\n",
      "**Hábitos Saudáveis**\n",
      "\n",
      "* Não fume.\n",
      "* Limite o consumo de álcool.\n",
      "* Evite drogas ilícitas.\n",
      "* Mantenha um peso saudável.\n",
      "\n",
      "**Prevenção de Doenças**\n",
      "\n",
      "* Vacine-se contra doenças evitáveis.\n",
      "* Pratique sexo seguro.\n",
      "* Use protetor solar para proteger sua pele do câncer de pele.\n",
      "\n",
      "**Cuidados Especiais**\n",
      "\n",
      "* Se você tiver alguma condição de saúde crônica, siga o plano de tratamento recomendado pelo seu médico.\n",
      "* Mulheres grávidas e idosos podem precisar de cuidados especiais.\n",
      "* Procure atendimento médico imediatamente se tiver algum problema de saúde grave.\n"
     ]
    }
   ],
   "source": [
    "llm = ChatGoogleGenerativeAI(model=\"gemini-pro\")\n",
    "result = llm.invoke(\"Como cuidar da saúde?\")\n",
    "print(result.content)"
   ]
  }
 ],
 "metadata": {
  "kernelspec": {
   "display_name": "Python 3",
   "language": "python",
   "name": "python3"
  },
  "language_info": {
   "codemirror_mode": {
    "name": "ipython",
    "version": 3
   },
   "file_extension": ".py",
   "mimetype": "text/x-python",
   "name": "python",
   "nbconvert_exporter": "python",
   "pygments_lexer": "ipython3",
   "version": "3.12.2"
  }
 },
 "nbformat": 4,
 "nbformat_minor": 2
}
